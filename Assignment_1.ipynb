{
  "nbformat": 4,
  "nbformat_minor": 0,
  "metadata": {
    "colab": {
      "provenance": [],
      "authorship_tag": "ABX9TyM04s+x8BXK/28eJCb5eDNQ",
      "include_colab_link": true
    },
    "kernelspec": {
      "name": "python3",
      "display_name": "Python 3"
    },
    "language_info": {
      "name": "python"
    }
  },
  "cells": [
    {
      "cell_type": "markdown",
      "metadata": {
        "id": "view-in-github",
        "colab_type": "text"
      },
      "source": [
        "<a href=\"https://colab.research.google.com/github/Abhilash2240/Probability-Statatics/blob/main/Assignment_1.ipynb\" target=\"_parent\"><img src=\"https://colab.research.google.com/assets/colab-badge.svg\" alt=\"Open In Colab\"/></a>"
      ]
    },
    {
      "cell_type": "code",
      "execution_count": 1,
      "metadata": {
        "id": "0ch0p7UpMSHc"
      },
      "outputs": [],
      "source": [
        "import numpy as np"
      ]
    },
    {
      "cell_type": "code",
      "source": [
        "ages=[10,12,15,11,13,21]\n",
        "frequencies=[1,4,7,9,4,3]"
      ],
      "metadata": {
        "id": "8xVEgEHESLPr"
      },
      "execution_count": 5,
      "outputs": []
    },
    {
      "cell_type": "code",
      "source": [
        "total_xf=sum(age*freq for age,freq in zip(ages,frequencies))\n",
        "total_f=sum(frequencies)\n",
        "mean_age=total_xf/total_f\n",
        "print(\"The mean age of participants is:\", round(mean_age,2))"
      ],
      "metadata": {
        "colab": {
          "base_uri": "https://localhost:8080/"
        },
        "id": "4hN2qedOSLs5",
        "outputId": "d8324d19-1b49-42f7-b772-e6386e77fb6d"
      },
      "execution_count": 6,
      "outputs": [
        {
          "output_type": "stream",
          "name": "stdout",
          "text": [
            "The mean age of participants is: 13.46\n"
          ]
        }
      ]
    },
    {
      "cell_type": "code",
      "source": [
        "class_intervals = [(0, 10), (10, 20), (20, 30), (30, 40), (40, 50), (50, 60)]\n",
        "frequencies_q2 = [1, 8, 7, 8, 7, 6]\n"
      ],
      "metadata": {
        "id": "YxpLHTxvUTSJ"
      },
      "execution_count": 8,
      "outputs": []
    },
    {
      "cell_type": "code",
      "source": [
        "# Calculate midpoints for class intervals\n",
        "midpoints = [(a + b) / 2 for a, b in class_intervals]\n",
        "\n",
        "# Mean formula: Mean = Σ(f * x) / Σ(f)\n",
        "sum_fx_q2 = sum(f * x for f, x in zip(frequencies_q2, midpoints))\n",
        "sum_f_q2 = sum(frequencies_q2)\n",
        "mean_q2 = sum_fx_q2 / sum_f_q2"
      ],
      "metadata": {
        "id": "ydPRurLNUTey"
      },
      "execution_count": 9,
      "outputs": []
    },
    {
      "cell_type": "code",
      "source": [],
      "metadata": {
        "id": "J_amPPYtUTv5"
      },
      "execution_count": null,
      "outputs": []
    }
  ]
}